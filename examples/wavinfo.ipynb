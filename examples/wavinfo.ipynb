{
 "cells": [
  {
   "cell_type": "code",
   "execution_count": 4,
   "metadata": {},
   "outputs": [],
   "source": [
    "import wavinfo\n",
    "import pprint"
   ]
  },
  {
   "cell_type": "code",
   "execution_count": 5,
   "metadata": {},
   "outputs": [],
   "source": [
    "pp = pprint.PrettyPrinter(indent=4)"
   ]
  },
  {
   "cell_type": "code",
   "execution_count": 6,
   "metadata": {},
   "outputs": [],
   "source": [
    "metacorder_path = '../tests/test_files/metacorder/Sr001-001-06_01.WAV'\n",
    "\n",
    "info = wavinfo.WavInfoReader(metacorder_path)"
   ]
  },
  {
   "cell_type": "code",
   "execution_count": 7,
   "metadata": {
    "scrolled": true
   },
   "outputs": [
    {
     "name": "stdout",
     "output_type": "stream",
     "text": [
      "[   ChunkDescriptor(ident=b'bext', start=20, length=858),\n",
      "    ChunkDescriptor(ident=b'fmt ', start=886, length=16),\n",
      "    ChunkDescriptor(ident=b'data', start=910, length=1725696),\n",
      "    ChunkDescriptor(ident=b'iXML', start=1726614, length=2852),\n",
      "    ChunkDescriptor(ident=b'iXTC', start=1729474, length=20)]\n"
     ]
    }
   ],
   "source": [
    "import wavinfo.wave_parser\n",
    "\n",
    "with open(metacorder_path,'rb') as f:\n",
    "    chunk_tree = wavinfo.wave_parser.parse_chunk(f)\n",
    "\n",
    "pp.pprint(chunk_tree.children)"
   ]
  },
  {
   "cell_type": "code",
   "execution_count": 12,
   "metadata": {},
   "outputs": [],
   "source": [
    "# with open(metacorder_path,'rb') as f:\n",
    "#     f.seek(chunk_tree.children[4].start)\n",
    "#     iXTC_data = f.read(chunk_tree.children[4].length)\n",
    "    \n",
    "# print(iXTC_data)"
   ]
  },
  {
   "cell_type": "code",
   "execution_count": 13,
   "metadata": {
    "scrolled": true
   },
   "outputs": [
    {
     "name": "stdout",
     "output_type": "stream",
     "text": [
      "WavBextFormat(description='gSCENE=001\\r\\ngTAKE=06\\r\\ngTAPE=Sr001\\r\\ngUBITS=00000000\\r\\n', originator='Metacorder Demo', originator_ref='', originator_date='2019:01:01', originator_time='13:36:16', time_reference=2350375830, version=0, umid=b'\\x00\\x00\\x00\\x00\\x00\\x00\\x00\\x00\\x00\\x00\\x00\\x00\\x00\\x00\\x00\\x00\\x00\\x00\\x00\\x00\\x00\\x00\\x00\\x00\\x00\\x00\\x00\\x00\\x00\\x00\\x00\\x00\\x00\\x00\\x00\\x00\\x00\\x00\\x00\\x00\\x00\\x00\\x00\\x00\\x00\\x00\\x00\\x00\\x00\\x00\\x00\\x00\\x00\\x00\\x00\\x00\\x00\\x00\\x00\\x00\\x00\\x00\\x00\\x00', loudness_value=0.0, loudness_range=0.0, max_true_peak=0.0, max_momentary_loudness=0.0, max_shortterm_loudness=0.0, coding_history='')\n"
     ]
    }
   ],
   "source": [
    "with open(metacorder_path,'rb') as f:\n",
    "    f.seek(chunk_tree.children[0].start)\n",
    "    bext_raw = f.read(chunk_tree.children[0].length)\n",
    "\n",
    "# ptinfo = wavinfo.WavInfoReader(metacorder_path)\n",
    "\n",
    "print(wavinfo.WavInfoReader(metacorder_path).bext)"
   ]
  },
  {
   "cell_type": "code",
   "execution_count": null,
   "metadata": {
    "scrolled": false
   },
   "outputs": [],
   "source": [
    "library_sound = testfile_path + 'BULLET Impact Plastic LCD TV Screen Shatter Debris 2x.wav'\n",
    "\n",
    "recinfo = wavinfo.WavInfoReader(library_sound)\n",
    "\n",
    "recinfo.ixml.source"
   ]
  },
  {
   "cell_type": "code",
   "execution_count": null,
   "metadata": {
    "scrolled": true
   },
   "outputs": [],
   "source": [
    "with open(library_sound,'rb') as f:\n",
    "    chunk_tree = wavinfo.wave_parser.parse_chunk(f)\n",
    "\n",
    "pp.pprint(chunk_tree.children)"
   ]
  },
  {
   "cell_type": "code",
   "execution_count": null,
   "metadata": {},
   "outputs": [],
   "source": []
  }
 ],
 "metadata": {
  "kernelspec": {
   "display_name": "Python 3",
   "language": "python",
   "name": "python3"
  },
  "language_info": {
   "codemirror_mode": {
    "name": "ipython",
    "version": 3
   },
   "file_extension": ".py",
   "mimetype": "text/x-python",
   "name": "python",
   "nbconvert_exporter": "python",
   "pygments_lexer": "ipython3",
   "version": "3.7.2"
  }
 },
 "nbformat": 4,
 "nbformat_minor": 2
}
